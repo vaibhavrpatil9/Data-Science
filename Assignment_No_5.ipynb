{
 "cells": [
  {
   "cell_type": "code",
   "execution_count": null,
   "id": "1c9ea38f",
   "metadata": {},
   "outputs": [],
   "source": [
    "1. What does an empty dictionary's code look like?\n",
    "Ans - d1 = {}\n",
    "\n",
    "2. What is the value of a dictionary value with the key 'foo' and the value 42?\n",
    "Ans - {'foo':42} hence value is 42 and we can get by d['foo']\n",
    "\n",
    "3. What is the most significant distinction between a dictionary and a list?\n",
    "Ans - Dictionary are key value pair while list are not key value pair hence tems in dictionaries are accessed with keys \n",
    "and not with their position. Dictionary is unordered while list is in ordered.  \n",
    "\n",
    "4. What happens if you try to access spam['foo'] if spam is {'bar': 100}?\n",
    "Ans - I will give me the error. Error name 'KeyError' \n",
    "\n",
    "5. If a dictionary is stored in spam, what is the difference between the expressions 'cat' in spam and 'cat' in spam.keys()?\n",
    "Ans - 'cat' in spam will give us True if 'cat' is presenet only at any key postion and  return False if 'cat' \n",
    "is not present or pesent at value position.\n",
    "'cat' in spam.keys() check only for 'cat' present or not at keys only and return True if present otherwise return False.\n",
    "\n",
    "6. If a dictionary is stored in spam, what is the difference between the expressions 'cat' in spam and 'cat' in spam.values()?\n",
    "Ans - 'cat' in spam will give us True if 'cat' is presenet only at any key postion and  return False if 'cat' \n",
    "is not present or pesent at value position.\n",
    "'cat' in spam.values() check only for 'cat' present or not at values only and return True if present otherwise return False.\n",
    "\n",
    "7. What is a shortcut for the following code?\n",
    "if 'color' not in spam:\n",
    "spam['color'] = 'black'\n",
    "Ans - spam['color'] = 'black'\n",
    "\n",
    "8. How do you \"pretty print\" dictionary values using which module and function?\n",
    "Ans - With the help of pprint module and using same function name  pprint()\n"
   ]
  }
 ],
 "metadata": {
  "kernelspec": {
   "display_name": "Python 3 (ipykernel)",
   "language": "python",
   "name": "python3"
  },
  "language_info": {
   "codemirror_mode": {
    "name": "ipython",
    "version": 3
   },
   "file_extension": ".py",
   "mimetype": "text/x-python",
   "name": "python",
   "nbconvert_exporter": "python",
   "pygments_lexer": "ipython3",
   "version": "3.9.12"
  }
 },
 "nbformat": 4,
 "nbformat_minor": 5
}
