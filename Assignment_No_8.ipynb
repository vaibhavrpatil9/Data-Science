{
 "cells": [
  {
   "cell_type": "code",
   "execution_count": null,
   "id": "d0e6ceb6",
   "metadata": {},
   "outputs": [],
   "source": [
    "1. Is the Python Standard Library included with PyInputPlus?\n",
    "Ans - PyInputPlus is not a part of the Python Standard Library. We require to install it separately using following :\n",
    "    pip install pyinputplus\n",
    "    \n",
    "2. Why is PyInputPlus commonly imported with import pyinputplus as pypi?\n",
    "Ans - pypi is alias of PyInputPlus. The as pyip code in the import statement saves us from typing pyinputplus each time \n",
    "we want to call a PyInputPlus function. Instead we can use the shorter pyip name.\n",
    "\n",
    "3. How do you distinguish between inputInt() and inputFloat()?\n",
    "Ans - inputInt() : Accepts an integer value, and returns int value \n",
    "inputFloat() : Accepts integer or floating point value and returns float value.\n",
    "    \n",
    "4. Using PyInputPlus, how do you ensure that the user enters a whole number between 0 and 99?\n",
    "Ans - In the inputint function we can set the min = 0 and max =99 to ensure user enters number between 0 and 99.\n",
    "eg pyip.inputInt(min = 0, max =99)\n",
    "\n",
    "5. What is transferred to the keyword arguments allowRegexes and blockRegexes?\n",
    "Ans- We can also use regular expressions to specify whether an input is allowed or not. The allowRegexes and blockRegexes \n",
    "keyword arguments take a list of regular expression strings to determine what the PyInputPlus function will accept or reject\n",
    "as valid input.\n",
    "\n",
    "6. If a blank input is entered three times, what does inputStr(limit=3) do?\n",
    "Ans - It will throw RetryLimitException exception.\n",
    "\n",
    "7. If blank input is entered three times, what does inputStr(limit=3, default='hello') do?\n",
    "Ans - When you use limit keyword arguments and also pass a default keyword argument, the function returns the default value \n",
    "instead of raising an exception.\n"
   ]
  }
 ],
 "metadata": {
  "kernelspec": {
   "display_name": "Python 3 (ipykernel)",
   "language": "python",
   "name": "python3"
  },
  "language_info": {
   "codemirror_mode": {
    "name": "ipython",
    "version": 3
   },
   "file_extension": ".py",
   "mimetype": "text/x-python",
   "name": "python",
   "nbconvert_exporter": "python",
   "pygments_lexer": "ipython3",
   "version": "3.9.12"
  }
 },
 "nbformat": 4,
 "nbformat_minor": 5
}
