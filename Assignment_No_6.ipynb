{
 "cells": [
  {
   "cell_type": "code",
   "execution_count": null,
   "id": "8ff02e1e",
   "metadata": {},
   "outputs": [],
   "source": [
    "1. What are escape characters, and how do you use them?\n",
    "Ans - To insert characters that are illegal in a string, use an escape character.An escape \n",
    "character is a backslash(\\) followed by the character you want to insert.\n",
    "\n",
    "2. What do the escape characters n and t stand for?\n",
    "'\\n' - stand for new line and '\\t' - stand for the tab\n",
    "\n",
    "3. What is the way to include backslash characters in a string?\n",
    "And - With the help of '\\b' we can include backslach in a string.\n",
    "\n",
    "4. The string \"Howl's Moving Castle\" is a correct value. Why isn't the single quote character in the word Howl's not \n",
    "escaped a problem?\n",
    "Ans - Here we used double quote for string defination hence our string is not closing after \"Howl's\" hence we are \n",
    "not geting any error.\n",
    "\n",
    "5. How do you write a string of newlines if you don't want to use the n character?\n",
    "Ans - First import os module and then  use os.linesep for newlines\n",
    "eg. import os\n",
    "print(\"Vaibhav\" + os.linesep + 'Patil') \n",
    "Output -- Vaibhav\n",
    "          Patil\n",
    "    \n",
    "    \n",
    "6. What are the values of the given expressions?\n",
    "'Hello, world!'[1] -- 'H'\n",
    "'Hello, world!'[0:5] --- 'Hello'\n",
    "'Hello, world!'[:5] ---- 'Hello'\n",
    "'Hello, world!'[3:] --- 'lo, world!'\n",
    "\n",
    "7. What are the values of the following expressions?\n",
    "'Hello'.upper() -- 'HELLO'\n",
    "'Hello'.upper().isupper() - True\n",
    "'Hello'.upper().lower() ---- 'hello'\n",
    "\n",
    "8. What are the values of the following expressions?\n",
    "Ans - 'Remember, remember, the fifth of July.'.split() --- ['Remember,', 'remember,', 'the', 'fifth', 'of', 'July.']\n",
    "'-'.join('There can only one.'.split()) --- 'There-can-only-one.'\n",
    "\n",
    "9. What are the methods for right-justifying, left-justifying, and centering a string?\n",
    "Ans - ljust(), rjust(), center() are the methods . \n",
    "\n",
    "10. What is the best way to remove whitespace characters from the start or end?\n",
    "Ans - use strip() function to remove whitespace characters from the start or end\n",
    "\n"
   ]
  }
 ],
 "metadata": {
  "kernelspec": {
   "display_name": "Python 3 (ipykernel)",
   "language": "python",
   "name": "python3"
  },
  "language_info": {
   "codemirror_mode": {
    "name": "ipython",
    "version": 3
   },
   "file_extension": ".py",
   "mimetype": "text/x-python",
   "name": "python",
   "nbconvert_exporter": "python",
   "pygments_lexer": "ipython3",
   "version": "3.9.12"
  }
 },
 "nbformat": 4,
 "nbformat_minor": 5
}
