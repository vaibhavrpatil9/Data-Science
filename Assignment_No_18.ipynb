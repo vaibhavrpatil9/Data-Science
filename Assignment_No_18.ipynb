{
 "cells": [
  {
   "cell_type": "code",
   "execution_count": null,
   "id": "47c37b4a",
   "metadata": {},
   "outputs": [],
   "source": [
    "1. Create a zoo.py file first. Define the hours() function, which prints the string &#39;Open 9-5 daily&#39;.\n",
    "Then, use the interactive interpreter to import the zoo module and call its hours() function.\n",
    "Ans - \n",
    "def hours():\n",
    "    print(\"Open 9-5 daily\")\n",
    "\n",
    "import zoo\n",
    "zoo.hours()\n",
    "\n",
    "2. In the interactive interpreter, import the zoo module as menagerie and call its hours() function.\n",
    "Ans -\n",
    "import zoo as menagerie\n",
    "menagerie.hours()\n",
    "\n",
    "3. Using the interpreter, explicitly import and call the hours() function from zoo.\n",
    "Ans -\n",
    "from zoo import hours()\n",
    "\n",
    "4. Import the hours() function as info and call it.\n",
    "Ans -\n",
    "from zoo import hours as info\n",
    "info()\n",
    "\n",
    "5. Create a plain dictionary with the key-value pairs &#39;a&#39;: 1, &#39;b&#39;: 2, and &#39;c&#39;: 3, and print it out.\n",
    "Ans -\n",
    "d1={'a':1,'b':2,'c':3}\n",
    "print(d1)\n",
    "\n",
    "6.Make an OrderedDict called fancy from the same pairs listed in 5 and print it. Did it print in the\n",
    "same order as plain?\n",
    "Ans -\n",
    "from collections import OrderedDict\n",
    "fancy=OrderedDict(d1)\n",
    "print(fancy)\n",
    "print(d1)\n",
    "No \n",
    "7. Make a default dictionary called dict_of_lists and pass it the argument list. Make the list\n",
    "dict_of_lists[&#39;a&#39;] and append the value &#39;something for a&#39; to it in one assignment. Print\n",
    "dict_of_lists[&#39;a&#39;].\n",
    "Ans\n",
    "from collections import defaultdict\n",
    "dict_of_lists = defaultdict(list)\n",
    "dict_of_lists['a'].append('something for a')\n",
    "print(dict_of_lists['a'])"
   ]
  }
 ],
 "metadata": {
  "kernelspec": {
   "display_name": "Python 3 (ipykernel)",
   "language": "python",
   "name": "python3"
  },
  "language_info": {
   "codemirror_mode": {
    "name": "ipython",
    "version": 3
   },
   "file_extension": ".py",
   "mimetype": "text/x-python",
   "name": "python",
   "nbconvert_exporter": "python",
   "pygments_lexer": "ipython3",
   "version": "3.9.12"
  }
 },
 "nbformat": 4,
 "nbformat_minor": 5
}
