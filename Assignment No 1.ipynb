{
 "cells": [
  {
   "cell_type": "markdown",
   "id": "fb4b4b4f",
   "metadata": {},
   "source": [
    "1. In the below elements which of them are values or an expression? eg:- values can be integer or string and expressions will be mathematical operators.\n",
    "\n",
    "* - expression\n",
    "'hello' - values\n",
    "-87.8 - values\n",
    "- - expression\n",
    "/ - expression\n",
    "+\t- expression\n",
    "6 - expression\n",
    "\n",
    "2. What is the difference between string and variable? \n",
    "String is tha data type and variable is not data type . We use varibale to store different types of values.\n",
    "\n",
    "3. Describe three different data types.\n",
    "Integer - Used to store integer numbers only.\n",
    "String - Used to store all charactres \n",
    "Float - Used to store decimal data type.\n",
    "Boolean - Used to store boolean i.e True and False\n",
    "\n",
    "4. What is an expression made up of? What do all expressions do?\n",
    "Expression made by variables, operations and values . Expression used to slove any specific problem. \n",
    "5. This assignment statements, like spam = 10. What is the difference between an expression and a statement?\n",
    "Expression is a combination variables, operations and values that gives a result value.Statements represent an action or command.\n",
    "\n",
    "6. After running the following code, what does the variable bacon contain?\n",
    "bacon = 22 \n",
    "bacon + 1 --23 but if we reassign then only it will store 23 otherwise bacon value is 22\n",
    "\n",
    "7. What should the values of the following two terms be?\n",
    "'spam' + 'spamspam' ---- spamspamspam\n",
    "'spam' * 3 ---- spamspamspam\n",
    "\n",
    "8. Why is eggs a valid variable name while 100 is invalid? \n",
    "For variable assignment we cannot start with number or special charater . Variable name nust start with charater hence 100 is invalid\n",
    "\n",
    "9. What three functions can be used to get the integer, floating-point number, or string version of a value?\n",
    "int() , float() , str()\n",
    "\n",
    "10. Why does this expression cause an error? How can you fix it?\n",
    "'I have eaten ' + 99 + ' burritos.'\n",
    "In above expression we are trying to concatenate string and integer hence it is causing error.\n",
    "To fix this error we require to convert integer 99 to string and then concatenate it.\n",
    "'I have eaten ' + '99' + ' burritos.'\n"
   ]
  }
 ],
 "metadata": {
  "kernelspec": {
   "display_name": "Python 3 (ipykernel)",
   "language": "python",
   "name": "python3"
  },
  "language_info": {
   "codemirror_mode": {
    "name": "ipython",
    "version": 3
   },
   "file_extension": ".py",
   "mimetype": "text/x-python",
   "name": "python",
   "nbconvert_exporter": "python",
   "pygments_lexer": "ipython3",
   "version": "3.9.12"
  }
 },
 "nbformat": 4,
 "nbformat_minor": 5
}
