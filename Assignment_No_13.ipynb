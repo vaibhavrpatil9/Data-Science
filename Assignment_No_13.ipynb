{
 "cells": [
  {
   "cell_type": "code",
   "execution_count": null,
   "id": "2cf69b2a",
   "metadata": {},
   "outputs": [],
   "source": [
    "1. What advantages do Excel spreadsheets have over CSV spreadsheets?\n",
    "Ans he Advantages of Excel over CSV are:\n",
    "Excel (XLS and XLSX) file formats are better for storing and analysing complex data.\n",
    "Excel store data into table format hence it is easy to read\n",
    "An Excel not only stores data but can also do operations on the data using macros, formulas etc\n",
    "CSV files are plain-text files, Does not contain formatting, formulas, macros, etc. It is also known as flat files\n",
    "\n",
    "2.What do you pass to csv.reader() and csv.writer() to create reader and writer objects?\n",
    "Ans - \n",
    "import csv\n",
    "with open('text.csv','r') as file:\n",
    "    csv_file = csv.reader(file,delimiter=',')\n",
    "    for ele in csv_file:\n",
    "        print(ele)\n",
    "\n",
    "3. What modes do File objects for reader and writer objects need to be opened in?\n",
    "Ans - For csv.reader(iterable_file_object), the file objects needed to be opened in read mode mode='r' \n",
    "Whereas for csv.writer(iterable_file_object) the file objects needed to be opened in write mode mode='w'\n",
    "\n",
    "4. What method takes a list argument and writes it to a CSV file?\n",
    "Ans - sv.writer class provides two methods for writing to CSV. They are writerow() and writerows(). writerow() method \n",
    "writes a single row at a time. Whereas writerows() method is used to write multiple rows at a time.\n",
    "\n",
    "5. What do the keyword arguments delimiter and line terminator do?\n",
    "Ans -We can use any Character as per our needs if required. Similarly Line Terminator comes at end of line by default \n",
    "it is newline and can be changed accourding to Requirement.\n",
    "\n",
    "6. What function takes a string of JSON data and returns a Python data structure?\n",
    "Ans - loads() method takes a string of JSON data and returns a Python data structure\n",
    "\n",
    "7. What function takes a Python data structure and returns a string of JSON data?\n",
    "Ans - dumps() method takes a python data structure and returns a string of JSON data\n"
   ]
  }
 ],
 "metadata": {
  "kernelspec": {
   "display_name": "Python 3 (ipykernel)",
   "language": "python",
   "name": "python3"
  },
  "language_info": {
   "codemirror_mode": {
    "name": "ipython",
    "version": 3
   },
   "file_extension": ".py",
   "mimetype": "text/x-python",
   "name": "python",
   "nbconvert_exporter": "python",
   "pygments_lexer": "ipython3",
   "version": "3.9.12"
  }
 },
 "nbformat": 4,
 "nbformat_minor": 5
}
