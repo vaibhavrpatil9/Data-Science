{
 "cells": [
  {
   "cell_type": "code",
   "execution_count": null,
   "id": "323c4643",
   "metadata": {},
   "outputs": [],
   "source": [
    "1. To what does a relative path refer?\n",
    "Ans - A relative path refers to a location that is relative to a current directory.\n",
    "\n",
    "2. What does an absolute path start with your operating system?\n",
    "Ans - the root folder, such as / or C:\\\n",
    "\n",
    "3. What do the functions os.getcwd() and os.chdir() do?\n",
    "Ans - getcwd(): This function allows you to see what your current working directory is.\n",
    "os.chdir(\"path-to-dir\"): This function allows you to set the current working directory to a path of your choice.\n",
    "    \n",
    "4. What are the . and .. folders?\n",
    "Ans - . folder is the current folder, and .. is the parent folder.\n",
    "\n",
    "5. In C:\\bacon\\eggs\\spam.txt, which part is the dir name, and which part is the base name?\n",
    "Ans - C:\\bacon\\eggs is the dir name, spam.txt is the base name\n",
    "    \n",
    "6. What are the three “mode” arguments that can be passed to the open() function?\n",
    "Ans - Write mode('w'or 'w+') , read mode ('r' or 'r+') and append mode ('a'or 'a+')\n",
    "\n",
    "7. What happens if an existing file is opened in write mode?\n",
    "Ans - It remove all present details and completely overwritten with new details.\n",
    "\n",
    "8. How do you tell the difference between read() and readlines()?\n",
    "Ans - Read() -- it read all output in a single linw which is not readable\n",
    "readlines() - It divide a output in the list format and it will give line by line output so we can easily read it.\n",
    "\n",
    "9. What data structure does a shelf value resemble?\n",
    "Ans - A dictionary value; it has keys and values, along with keys() and values() methods that work similarly to the \n",
    "dictionary methods of the same names"
   ]
  }
 ],
 "metadata": {
  "kernelspec": {
   "display_name": "Python 3 (ipykernel)",
   "language": "python",
   "name": "python3"
  },
  "language_info": {
   "codemirror_mode": {
    "name": "ipython",
    "version": 3
   },
   "file_extension": ".py",
   "mimetype": "text/x-python",
   "name": "python",
   "nbconvert_exporter": "python",
   "pygments_lexer": "ipython3",
   "version": "3.9.12"
  }
 },
 "nbformat": 4,
 "nbformat_minor": 5
}
